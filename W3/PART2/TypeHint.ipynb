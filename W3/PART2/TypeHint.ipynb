{
 "cells": [
  {
   "cell_type": "markdown",
   "metadata": {},
   "source": [
    "Question 1: Create function add_numbers\n"
   ]
  },
  {
   "cell_type": "code",
   "execution_count": 2,
   "metadata": {},
   "outputs": [
    {
     "name": "stdout",
     "output_type": "stream",
     "text": [
      "3\n"
     ]
    }
   ],
   "source": [
    "def add_numbers(num1:int, num2:int) -> int:\n",
    "    return num1 + num2\n",
    "print(add_numbers(1, 2))"
   ]
  },
  {
   "cell_type": "markdown",
   "metadata": {},
   "source": [
    "Question 2: Create function filter_even_numbers\n"
   ]
  },
  {
   "cell_type": "code",
   "execution_count": 8,
   "metadata": {},
   "outputs": [
    {
     "name": "stdout",
     "output_type": "stream",
     "text": [
      "[2, 6, 8]\n"
     ]
    }
   ],
   "source": [
    "def filter_even_numbers(numbers:list) -> list:\n",
    "    return [number for number in numbers if number % 2 == 0]\n",
    "\n",
    "print(filter_even_numbers([2,5,3,6,8,7]))\n",
    "        "
   ]
  },
  {
   "cell_type": "markdown",
   "metadata": {},
   "source": [
    "Question 3: Define a class Book\n"
   ]
  },
  {
   "cell_type": "code",
   "execution_count": 14,
   "metadata": {},
   "outputs": [
    {
     "name": "stdout",
     "output_type": "stream",
     "text": [
      "The Great Gatsby by F. Scott Fitzgerald is long: True\n"
     ]
    }
   ],
   "source": [
    "class Book:\n",
    "    def __init__(self, title:str, author:str, pages:int):\n",
    "        self.title = title\n",
    "        self.author = author\n",
    "        self.pages = pages\n",
    "        \n",
    "    def get_book_info(self) -> str:\n",
    "        return f'{self.title} by {self.author}'\n",
    "    \n",
    "    def is_long(self) -> bool:\n",
    "        return self.pages > 300    \n",
    "    \n",
    "book = Book('The Great Gatsby', 'F. Scott Fitzgerald', 315)\n",
    "print(f\"{book.get_book_info()} is long: {book.is_long()}\")\n"
   ]
  },
  {
   "cell_type": "markdown",
   "metadata": {},
   "source": [
    "Question 4: Write a function count_word_occurrences\n"
   ]
  },
  {
   "cell_type": "code",
   "execution_count": 38,
   "metadata": {},
   "outputs": [
    {
     "data": {
      "text/plain": [
       "{'n': 2,\n",
       " 'i': 3,\n",
       " 'c': 2,\n",
       " 'e': 5,\n",
       " ' ': 7,\n",
       " 't': 2,\n",
       " 'o': 2,\n",
       " 'm': 3,\n",
       " 'y': 2,\n",
       " 'u': 1,\n",
       " '!': 1,\n",
       " 'a': 2,\n",
       " 's': 1,\n",
       " 'l': 1}"
      ]
     },
     "execution_count": 38,
     "metadata": {},
     "output_type": "execute_result"
    }
   ],
   "source": [
    "def count_word_occurrences(words:str) -> dict:\n",
    "    temp = list(words.lower())\n",
    "    store = dict()\n",
    "    for i in range(len(temp)-1):\n",
    "        if(temp[i] in store):\n",
    "            continue\n",
    "        count = 0\n",
    "        for j in range(i, len(temp)):\n",
    "            if temp[i] == temp[j]:\n",
    "                count += 1\n",
    "        store[temp[i]] = count\n",
    "    return store\n",
    "    \n",
    "count_word_occurrences(\"Nice to meet you! My name is Alice.\")"
   ]
  }
 ],
 "metadata": {
  "kernelspec": {
   "display_name": "envpython",
   "language": "python",
   "name": "python3"
  },
  "language_info": {
   "codemirror_mode": {
    "name": "ipython",
    "version": 3
   },
   "file_extension": ".py",
   "mimetype": "text/x-python",
   "name": "python",
   "nbconvert_exporter": "python",
   "pygments_lexer": "ipython3",
   "version": "3.9.20"
  }
 },
 "nbformat": 4,
 "nbformat_minor": 2
}
